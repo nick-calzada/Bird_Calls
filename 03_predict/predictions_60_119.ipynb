{
 "cells": [
  {
   "cell_type": "markdown",
   "id": "0cc5ca01-d5f4-4a85-8896-02e9d7ca7b45",
   "metadata": {},
   "source": [
    "# Recordings 60-79"
   ]
  },
  {
   "cell_type": "code",
   "execution_count": null,
   "id": "4f754851-1d2c-4370-88e7-10c6c9c79ba3",
   "metadata": {},
   "outputs": [],
   "source": [
    "waves_60_79 = all_wave_files[60:80]"
   ]
  },
  {
   "cell_type": "code",
   "execution_count": null,
   "id": "e55d17dd-07a5-4117-96c5-577bdd499e01",
   "metadata": {},
   "outputs": [],
   "source": [
    "for overlap in overlaps:\n",
    "    o_lap = str(overlap).replace('.', '')\n",
    "    df_name = 'df_60_79_' + o_lap + '_overlap.csv'\n",
    "    print(df_name)\n",
    "    df = predict_on_recordings(waves_60_79, chunk_size=1, overlap = overlap)\n",
    "    df.to_csv(df_name, index = False)"
   ]
  },
  {
   "cell_type": "markdown",
   "id": "8bddf174-544e-4574-b46b-d59152d9671b",
   "metadata": {},
   "source": [
    "# Recordings 80-99"
   ]
  },
  {
   "cell_type": "code",
   "execution_count": null,
   "id": "b7f1b64f-bc1f-42be-9534-280e420a9d91",
   "metadata": {},
   "outputs": [],
   "source": [
    "waves_80_99 = all_wave_files[80:100]"
   ]
  },
  {
   "cell_type": "code",
   "execution_count": null,
   "id": "588fc07b-a902-414b-9cb4-9854bd47b2a4",
   "metadata": {},
   "outputs": [],
   "source": [
    "for overlap in overlaps:\n",
    "    o_lap = str(overlap).replace('.', '')\n",
    "    df_name = 'df_80_99_' + o_lap + '_overlap.csv'\n",
    "    print(df_name)\n",
    "    df = predict_on_recordings(waves_80_99, chunk_size=1, overlap = overlap)\n",
    "    df.to_csv(df_name, index = False)"
   ]
  },
  {
   "cell_type": "markdown",
   "id": "2921d006-bb28-4824-98e2-79923dfc4849",
   "metadata": {},
   "source": [
    "# Recordings 100-119"
   ]
  },
  {
   "cell_type": "code",
   "execution_count": null,
   "id": "ba2156d0-b0b8-4fd1-a0c3-53951642b35e",
   "metadata": {},
   "outputs": [],
   "source": [
    "waves_100_119 = all_wave_files[100:120]\n",
    "nums = [x.split('/')[-1].split('.')[0] for x in waves_100_119]\n",
    "nums = [int(x) for x in nums]"
   ]
  },
  {
   "cell_type": "code",
   "execution_count": null,
   "id": "77b85657-e74c-4bc1-938e-56f0bb17e717",
   "metadata": {},
   "outputs": [],
   "source": [
    "for overlap in overlaps:\n",
    "    o_lap = str(overlap).replace('.', '')\n",
    "    df_name = 'df_100_119_' + o_lap + '_overlap.csv'\n",
    "    print(df_name)\n",
    "    df = predict_on_recordings(waves_100_119, chunk_size=1, overlap = overlap)\n",
    "    df.to_csv(df_name, index = False)"
   ]
  },
  {
   "cell_type": "code",
   "execution_count": null,
   "id": "59a48dcc-5dc1-42f2-8b5e-c075c7ecc423",
   "metadata": {},
   "outputs": [],
   "source": [
    "# Reducing sample size to only include those which fall within the necessary filter reqs..."
   ]
  },
  {
   "cell_type": "code",
   "execution_count": null,
   "id": "af8dfa01-5cdf-405c-b312-0a781aead03b",
   "metadata": {},
   "outputs": [],
   "source": [
    "## samples that are in common with the ones that have been used to calculate cross entropy loss values"
   ]
  },
  {
   "cell_type": "code",
   "execution_count": null,
   "id": "3542ac6c-db10-42ee-90d4-5a131b3c2f1f",
   "metadata": {},
   "outputs": [],
   "source": [
    "in_common_samps = [273072621,\n",
    " 561220301,\n",
    " 309454251,\n",
    " 239810171,\n",
    " 347229281,\n",
    " 533570501,\n",
    " 150354041,\n",
    " 570770731,\n",
    " 347858241,\n",
    " 617342193,\n",
    " 618172651,\n",
    " 104357441,\n",
    " 311688651,\n",
    " 601652861,\n",
    " 323641781,\n",
    " 434372741,\n",
    " 318540001,\n",
    " 616122737,\n",
    " 490910681,\n",
    " 565879421,\n",
    " 520350001,\n",
    " 220759221,\n",
    " 443490761,\n",
    " 323237621,\n",
    " 401144841,\n",
    " 392495311,\n",
    " 181737771,\n",
    " 324141031,\n",
    " 279260991,\n",
    " 303711261,\n",
    " 614563468,\n",
    " 429950981,\n",
    " 147890801,\n",
    " 436170191,\n",
    " 618030099,\n",
    " 464790091,\n",
    " 350330041,\n",
    " 616774892,\n",
    " 155599071,\n",
    " 505559401,\n",
    " 408109331,\n",
    " 356095091,\n",
    " 445344591,\n",
    " 349695741,\n",
    " 532778151,\n",
    " 366742991,\n",
    " 473274261,\n",
    " 612950835,\n",
    " 611406572,\n",
    " 211006261,\n",
    " 613574951,\n",
    " 462696961,\n",
    " 334233671,\n",
    " 90534411,\n",
    " 609014861,\n",
    " 367317641,\n",
    " 82665391,\n",
    " 613508440,\n",
    " 599433361,\n",
    " 618381365,\n",
    " 369261521,\n",
    " 224559801,\n",
    " 616587785,\n",
    " 376246401,\n",
    " 462975991,\n",
    " 222959451,\n",
    " 228466501]"
   ]
  },
  {
   "cell_type": "code",
   "execution_count": null,
   "id": "ddb58320-8837-4205-baca-ba316a3d087d",
   "metadata": {},
   "outputs": [],
   "source": [
    "## predicting "
   ]
  }
 ],
 "metadata": {
  "kernelspec": {
   "display_name": "Python 3 (ipykernel)",
   "language": "python",
   "name": "python3"
  },
  "language_info": {
   "codemirror_mode": {
    "name": "ipython",
    "version": 3
   },
   "file_extension": ".py",
   "mimetype": "text/x-python",
   "name": "python",
   "nbconvert_exporter": "python",
   "pygments_lexer": "ipython3",
   "version": "3.8.19"
  }
 },
 "nbformat": 4,
 "nbformat_minor": 5
}
